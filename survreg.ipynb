{
 "cells": [
  {
   "cell_type": "code",
   "execution_count": null,
   "metadata": {},
   "outputs": [],
   "source": [
    "library(survival)\n",
    "library(rjson)"
   ]
  },
  {
   "cell_type": "code",
   "execution_count": null,
   "metadata": {},
   "outputs": [],
   "source": [
    "data_import =function(dataname){\n",
    "  filename = paste('https://raw.githubusercontent.com/avinashbarnwal/GSOC-2019/master/AFT/test/data/',dataname,'/',sep=\"\")\n",
    "  inputFileName = paste(filename,'inputs.csv',sep=\"\")\n",
    "  labelFileName = paste(filename,'outputs.csv',sep=\"\")\n",
    "  foldsFileName = paste(filename,'cv/equal_labels/folds.csv',sep=\"\")\n",
    "  inputs        = read.table(inputFileName,sep=\",\",header=T,stringsAsFactors = F,row.names=1)\n",
    "  labels        = read.table(labelFileName,sep=\",\",header=T,stringsAsFactors = F,row.names=1)\n",
    "  folds         = read.table(foldsFileName,sep=\",\",header=T,stringsAsFactors = F,row.names=1)\n",
    "  res           = list()\n",
    "  res$inputs    = inputs\n",
    "  res$labels    = labels\n",
    "  res$folds     = folds\n",
    "  return(res)\n",
    "}"
   ]
  },
  {
   "cell_type": "code",
   "execution_count": null,
   "metadata": {},
   "outputs": [],
   "source": [
    "data_massage = function(inputs,labels){\n",
    "    rownamesInput = rownames(inputs)\n",
    "    inputs        = do.call(data.frame,lapply(inputs, function(x) replace(x, is.infinite(x),NA)))\n",
    "    naColumns     = colnames(inputs)[colSums(is.na(inputs))>0]\n",
    "    inputs        = inputs[ , !(colnames(inputs) %in% naColumns)]\n",
    "    noVarCol      = getNonVarCols(inputs)\n",
    "    inputs        = inputs[ , !(colnames(inputs) %in% noVarCol)]\n",
    "    rownames(inputs) = rownamesInput\n",
    "    labels$min.log.lambda = unlist(lapply(labels$min.log.lambda,exp))\n",
    "    labels$max.log.lambda = unlist(lapply(labels$max.log.lambda,exp))\n",
    "    res        = list()\n",
    "    res$inputs = inputs\n",
    "    res$labels = labels\n",
    "    return(res)\n",
    "}"
   ]
  },
  {
   "cell_type": "code",
   "execution_count": null,
   "metadata": {},
   "outputs": [],
   "source": [
    "getXY<-function(foldNo,folds,inputs,labels){\n",
    "    test.id       = rownames(subset(folds,fold==foldNo))\n",
    "    train.id      = rownames(subset(folds,fold!=foldNo))\n",
    "    X             = subset(inputs,rownames(inputs) %in% train.id)\n",
    "    X             = as.matrix(X)\n",
    "    X.val         = subset(inputs,rownames(inputs) %in% test.id)\n",
    "    X.val         = as.matrix(X.val)\n",
    "    y.label       = subset(labels,rownames(labels) %in% train.id)\n",
    "    y.label.test  = subset(labels,rownames(labels) %in% test.id)\n",
    "    y.lower       = as.matrix(y.label$min.log.lambda)\n",
    "    y.upper       = as.matrix(y.label$max.log.lambda)\n",
    "    y.lower.val   = as.matrix(y.label.test$min.log.lambda)\n",
    "    y.upper.val   = as.matrix(y.label.test$max.log.lambda)\n",
    "    res           = list()\n",
    "    res$X         = X\n",
    "    res$X.val     = X.val\n",
    "    res$y.lower      = y.lower\n",
    "    res$y.lower.val  = y.lower.val\n",
    "    res$y.upper      = y.upper\n",
    "    res$y.upper.val  = y.upper.val\n",
    "    return(res)\n",
    "}"
   ]
  },
  {
   "cell_type": "code",
   "execution_count": null,
   "metadata": {},
   "outputs": [],
   "source": [
    "getNonVarCols<-function(data){\n",
    "    var_columns    = apply(data,2,var)\n",
    "    resCol         = names(var_columns[var_columns==0])\n",
    "    resCol         = resCol[!is.na(resCol)]\n",
    "    return(resCol)\n",
    "}"
   ]
  },
  {
   "cell_type": "code",
   "execution_count": null,
   "metadata": {},
   "outputs": [],
   "source": [
    "getaccuracy=function(pred,y_lower,y_higher){\n",
    "    res = (pred>=y_lower & pred<=y_higher)\n",
    "    return(res)\n",
    "}"
   ]
  },
  {
   "cell_type": "code",
   "execution_count": null,
   "metadata": {},
   "outputs": [],
   "source": [
    "getBestPCACv=function(train,test,y.lower.trn,y.upper.trn,y.lower.tst,y.upper.tst){\n",
    "    \n",
    "    no.var.cols  = getNonVarCols(train)\n",
    "    train        = train[ , !(colnames(train) %in% no.var.cols)]\n",
    "    test         = test[ , !(colnames(test) %in% no.var.cols)]\n",
    "    train.pr     = prcomp(train, center = TRUE, scale = TRUE)\n",
    "    nPr          = length(train.pr$sdev)\n",
    "    accuracy     = numeric(nPr)\n",
    "    for(j in 1:nPr){\n",
    "        train.sub  = train.pr$x[,c(1:j)]\n",
    "        data       = data.frame(train.sub,y.lower.trn,y.upper.trn)\n",
    "        colnames(data) = c(colnames(train.pr$x)[1:j],\"y_lower\",\"y_upper\")\n",
    "        my.surv         = Surv(y.lower.trn,y.upper.trn,type='interval2')\n",
    "        formula         = as.formula(paste(\"my.surv ~\", paste(colnames(train.pr$x)[1:j],collapse=\"+\")))\n",
    "        \n",
    "        sr.fit          = try(survreg(formula,data=data,dist='lognormal', control = list(maxiter=1000)))\n",
    "        if(class(sr.fit) != \"try-error\"){\n",
    "            pred.pr         = predict(train.pr,newdata=test)\n",
    "            pred.pr.sub     = data.frame(pred.pr[,c(1:j)])\n",
    "            colnames(pred.pr.sub) = colnames(train.pr$x)[1:j]\n",
    "            pred.y          = predict(sr.fit,pred.pr.sub)\n",
    "            accuracy[j]     = sum(mapply(getaccuracy,pred.y,y.lower.tst,y.upper.tst))/length(pred.y)\n",
    "        }\n",
    "    }\n",
    "    return(accuracy)\n",
    "}"
   ]
  },
  {
   "cell_type": "code",
   "execution_count": null,
   "metadata": {},
   "outputs": [],
   "source": [
    "create_data = function(data_name){\n",
    "    res                 = data_import(data_name)\n",
    "    inputs              = res$inputs\n",
    "    labels              = res$labels\n",
    "    folds               = res$folds\n",
    "    res_data_massage    = data_massage(inputs,labels)\n",
    "    inputs              = res_data_massage$inputs\n",
    "    labels              = res_data_massage$labels\n",
    "    fold_iter           = unique(folds$fold)\n",
    "    accuracy_fold       = numeric(length(fold_iter))\n",
    "    result              = list()\n",
    "    result$fold_iter    = fold_iter\n",
    "    result$folds        = folds\n",
    "    result$inputs       = inputs\n",
    "    result$labels       = labels\n",
    "    result$accuracy_fold = accuracy_fold\n",
    "    return(result)\n",
    "}"
   ]
  },
  {
   "cell_type": "code",
   "execution_count": null,
   "metadata": {},
   "outputs": [],
   "source": [
    "data_name_domain       = c('ATAC_JV_adipose','CTCF_TDH_ENCODE','H3K27ac-H3K4me3_TDHAM_BP','H3K27ac_TDH_some','H3K36me3_AM_immune','H3K27me3_RL_cancer','H3K27me3_TDH_some','H3K36me3_TDH_ENCODE','H3K36me3_TDH_immune','H3K36me3_TDH_other')\n",
    "run_time               = list()"
   ]
  },
  {
   "cell_type": "code",
   "execution_count": null,
   "metadata": {},
   "outputs": [],
   "source": [
    "train_test_model = function(data_name){\n",
    "    \n",
    "    result        = create_data(data_name)\n",
    "    folds         = result$folds\n",
    "    fold_iter     = result$fold_iter\n",
    "    inputs        = result$inputs\n",
    "    labels        = result$labels\n",
    "    accuracy_fold = list()\n",
    "    \n",
    "    for(i in fold_iter){\n",
    "        \n",
    "        start_time          = Sys.time()\n",
    "        res                 = getXY(i,folds,inputs,labels)\n",
    "        X                   = res$X\n",
    "        X.val               = res$X.val\n",
    "        y.lower             = res$y.lower\n",
    "        y.lower.val         = res$y.lower.val\n",
    "        y.upper             = res$y.upper\n",
    "        y.upper.val         = res$y.upper.val\n",
    "        train.folds         = cut(seq(1,nrow(X)),breaks=5,labels=FALSE)\n",
    "        res                 = list()\n",
    "        \n",
    "        for(j in 1:5){\n",
    "            testIndexes = which(train.folds==j,arr.ind=TRUE)\n",
    "            X.tst        = X[testIndexes, ]\n",
    "            X.trn        = X[-testIndexes, ]\n",
    "            y.lower.trn  = y.lower[-testIndexes,] \n",
    "            y.upper.trn  = y.upper[-testIndexes,]\n",
    "            y.lower.tst  = y.lower[testIndexes,]\n",
    "            y.upper.tst  = y.upper[testIndexes,]\n",
    "            res[[j]]     = getBestPCACv(X.trn,X.tst,y.lower.trn,y.upper.trn,y.lower.tst,y.upper.tst)\n",
    "        }\n",
    "        \n",
    "        result = do.call(cbind,res)\n",
    "        result = cbind(result,apply(result,1,mean))\n",
    "        pr_sel = which.max(result[,6])\n",
    "        X.pr   = prcomp(X, center = TRUE, scale = TRUE)\n",
    "        X.sub  = X.pr$x[,c(1:pr_sel)]\n",
    "        data            = data.frame(X.sub,y.lower,y.upper)\n",
    "        colnames(data)  = c(colnames(X.pr$x)[1:pr_sel],\"y_lower\",\"y_upper\")\n",
    "        my.surv         = Surv(y.lower,y.upper,type='interval2')\n",
    "        formula         = as.formula(paste(\"my.surv ~\", paste(colnames(X.pr$x)[1:pr_sel],collapse=\"+\")))\n",
    "        sr.fit          = survreg(formula,data=data,dist='lognormal', control = list(maxiter=500))\n",
    "        pred.val.pr     = predict(X.pr,newdata=X.val)\n",
    "        pred.val.pr.sub = data.frame(pred.val.pr[,c(1:pr_sel)])\n",
    "        colnames(pred.val.pr.sub) = colnames(X.pr$x)[1:pr_sel]\n",
    "        pred.y.val          = predict(sr.fit,pred.val.pr.sub)\n",
    "        accuracy_fold[[i]]  = sum(mapply(getaccuracy,pred.y.val,y.lower.val,y.upper.val))/length(pred.y.val)\n",
    "        pred_data           = data.frame(pred.y.val,y.lower.val,y.upper.val)\n",
    "        colnames(pred_data) = c(\"predict\",\"y.lower\",\"y.upper\")\n",
    "        file_name           = paste(\"survreg_result/\",data_name,\"/\",i,\".csv\",sep=\"\")\n",
    "        write.table(pred_data,file_name,sep=\",\",col.names=NA)\n",
    "        end_time      = Sys.time()\n",
    "        time_taken    = as.numeric(end_time-start_time)\n",
    "        run_time[[i]] = time_taken\n",
    "    }\n",
    "    names(run_time)      = fold_iter\n",
    "    names(accuracy_fold) = fold_iter\n",
    "    json_accuracy = toJSON(accuracy_fold)\n",
    "    file_name    = paste(\"survreg_result/\",data_name,\"/accuracy.JSON\",sep=\"\")\n",
    "    write(json_accuracy, file=file_name)\n",
    "    json_run_time = toJSON(run_time)\n",
    "    file_name     = paste(\"survreg_result/\",data_name,\"/run_time.JSON\",sep=\"\")\n",
    "    write(json_run_time, file=file_name)\n",
    "    \n",
    "}"
   ]
  },
  {
   "cell_type": "code",
   "execution_count": null,
   "metadata": {},
   "outputs": [],
   "source": [
    "train_test_model(data_name_domain[1])"
   ]
  },
  {
   "cell_type": "code",
   "execution_count": null,
   "metadata": {},
   "outputs": [],
   "source": [
    "train_test_model(data_name_domain[2])"
   ]
  },
  {
   "cell_type": "code",
   "execution_count": null,
   "metadata": {},
   "outputs": [],
   "source": [
    "train_test_model(data_name_domain[3])"
   ]
  },
  {
   "cell_type": "code",
   "execution_count": null,
   "metadata": {},
   "outputs": [],
   "source": [
    "train_test_model(data_name_domain[4])"
   ]
  },
  {
   "cell_type": "code",
   "execution_count": null,
   "metadata": {},
   "outputs": [],
   "source": [
    "train_test_model(data_name_domain[5])"
   ]
  },
  {
   "cell_type": "code",
   "execution_count": null,
   "metadata": {},
   "outputs": [],
   "source": [
    "train_test_model(data_name_domain[6])"
   ]
  },
  {
   "cell_type": "code",
   "execution_count": null,
   "metadata": {},
   "outputs": [],
   "source": [
    "train_test_model(data_name_domain[7])"
   ]
  },
  {
   "cell_type": "code",
   "execution_count": null,
   "metadata": {},
   "outputs": [],
   "source": [
    "train_test_model(data_name_domain[8])"
   ]
  },
  {
   "cell_type": "code",
   "execution_count": null,
   "metadata": {},
   "outputs": [],
   "source": [
    "train_test_model(data_name_domain[9])"
   ]
  },
  {
   "cell_type": "code",
   "execution_count": null,
   "metadata": {},
   "outputs": [],
   "source": [
    "train_test_model(data_name_domain[10])"
   ]
  },
  {
   "cell_type": "code",
   "execution_count": null,
   "metadata": {},
   "outputs": [],
   "source": []
  }
 ],
 "metadata": {
  "kernelspec": {
   "display_name": "R",
   "language": "R",
   "name": "ir"
  },
  "language_info": {
   "codemirror_mode": "r",
   "file_extension": ".r",
   "mimetype": "text/x-r-source",
   "name": "R",
   "pygments_lexer": "r",
   "version": "3.6.3"
  }
 },
 "nbformat": 4,
 "nbformat_minor": 4
}
